{
 "cells": [
  {
   "cell_type": "code",
   "execution_count": 6,
   "metadata": {},
   "outputs": [
    {
     "ename": "SyntaxError",
     "evalue": "invalid syntax (<ipython-input-6-86b65cab637e>, line 1)",
     "output_type": "error",
     "traceback": [
      "\u001b[1;36m  File \u001b[1;32m\"<ipython-input-6-86b65cab637e>\"\u001b[1;36m, line \u001b[1;32m1\u001b[0m\n\u001b[1;33m    &&&&&&Exercise 1\u001b[0m\n\u001b[1;37m    ^\u001b[0m\n\u001b[1;31mSyntaxError\u001b[0m\u001b[1;31m:\u001b[0m invalid syntax\n"
     ]
    }
   ],
   "source": [
    "#Exercise 1\n",
    "#Given a list as a parameter,write a function that returns a list of numbers that are less than ten\n",
    "#For example: Say your input parameter to the function is [1,11,14,5,8,9]...Your output should [1,5,8,9]\n",
    "\n",
    "for number in list:\n",
    "    if number 'is 11' or '14':\n",
    "        number.remove('11', '14')\n",
    "print(number)\n",
    "\n",
    "print(sorted(l_1 -11))"
   ]
  },
  {
   "cell_type": "code",
   "execution_count": 7,
   "metadata": {},
   "outputs": [
    {
     "name": "stdout",
     "output_type": "stream",
     "text": [
      "[1, 2, 3, 3, 4, 4, 5, 5, 6, 6, 7, 8, 10]\n",
      "[1, 2, 3, 3, 4, 4, 5, 5, 6, 6, 7, 8, 10]\n"
     ]
    }
   ],
   "source": [
    "#Exercise 2\n",
    "#Write a function that takes in two lists and returns the two lists merged together and sorted\n",
    "#Hint: You can use the .sort() method\n",
    "\n",
    "\n",
    "l_1 = [1,2,3,4,5,6]\n",
    "l_2 = [3,4,5,6,7,8,10]\n",
    "\n",
    "combined_list = l_1 + l_2\n",
    "combined_list1 =  sorted(l_1 + l_2)\n",
    "\n",
    "print(list(sorted(combined_list)))\n",
    "print(combined_list1)"
   ]
  },
  {
   "cell_type": "code",
   "execution_count": null,
   "metadata": {},
   "outputs": [],
   "source": []
  }
 ],
 "metadata": {
  "kernelspec": {
   "display_name": "Python 3",
   "language": "python",
   "name": "python3"
  },
  "language_info": {
   "codemirror_mode": {
    "name": "ipython",
    "version": 3
   },
   "file_extension": ".py",
   "mimetype": "text/x-python",
   "name": "python",
   "nbconvert_exporter": "python",
   "pygments_lexer": "ipython3",
   "version": "3.7.3"
  }
 },
 "nbformat": 4,
 "nbformat_minor": 2
}
